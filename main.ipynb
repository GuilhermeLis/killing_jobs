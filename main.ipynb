{
 "cells": [
  {
   "cell_type": "code",
   "execution_count": 41,
   "metadata": {},
   "outputs": [],
   "source": [
    "from google.cloud import bigquery\n",
    "import datetime\n"
   ]
  },
  {
   "cell_type": "code",
   "execution_count": 42,
   "metadata": {},
   "outputs": [],
   "source": [
    "client = bigquery.Client()\n"
   ]
  },
  {
   "cell_type": "code",
   "execution_count": 43,
   "metadata": {},
   "outputs": [],
   "source": [
    "def cancel_job(\n",
    "    client: bigquery.Client,\n",
    "    location: str = \"us\",\n",
    "    job_id: str = \"abcd-efgh-ijkl-mnop\",\n",
    ") -> None:\n",
    "    job = client.cancel_job(job_id, location=location)\n",
    "    print(f\"{job.location}:{job.job_id} cancelled\")"
   ]
  },
  {
   "cell_type": "code",
   "execution_count": 44,
   "metadata": {},
   "outputs": [
    {
     "name": "stdout",
     "output_type": "stream",
     "text": [
      "Last 10 jobs run by all users:\n"
     ]
    }
   ],
   "source": [
    "print(\"Last 10 jobs run by all users:\")\n",
    "for job in client.list_jobs(max_results=10, all_users=True):\n",
    "    if job.state == \"PENDING\" or job.state == \"RUNNING\":\n",
    "    # print(\"{} run by user: {}\".format(job.job_id, job.user_email))\n",
    "        print(job.state)\n",
    "    # cancel_job(client, job_id=job.job_id, location=job.location)"
   ]
  }
 ],
 "metadata": {
  "kernelspec": {
   "display_name": "test-all",
   "language": "python",
   "name": "python3"
  },
  "language_info": {
   "codemirror_mode": {
    "name": "ipython",
    "version": 3
   },
   "file_extension": ".py",
   "mimetype": "text/x-python",
   "name": "python",
   "nbconvert_exporter": "python",
   "pygments_lexer": "ipython3",
   "version": "3.8.10"
  }
 },
 "nbformat": 4,
 "nbformat_minor": 2
}
